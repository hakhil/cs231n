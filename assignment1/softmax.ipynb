{
 "cells": [
  {
   "cell_type": "markdown",
   "metadata": {},
   "source": [
    "# Softmax exercise\n",
    "\n",
    "*Complete and hand in this completed worksheet (including its outputs and any supporting code outside of the worksheet) with your assignment submission. For more details see the [assignments page](http://vision.stanford.edu/teaching/cs231n/assignments.html) on the course website.*\n",
    "\n",
    "This exercise is analogous to the SVM exercise. You will:\n",
    "\n",
    "- implement a fully-vectorized **loss function** for the Softmax classifier\n",
    "- implement the fully-vectorized expression for its **analytic gradient**\n",
    "- **check your implementation** with numerical gradient\n",
    "- use a validation set to **tune the learning rate and regularization** strength\n",
    "- **optimize** the loss function with **SGD**\n",
    "- **visualize** the final learned weights\n"
   ]
  },
  {
   "cell_type": "code",
   "execution_count": 1,
   "metadata": {},
   "outputs": [],
   "source": [
    "import random\n",
    "import numpy as np\n",
    "from cs231n.data_utils import load_CIFAR10\n",
    "import matplotlib.pyplot as plt\n",
    "%matplotlib inline\n",
    "plt.rcParams['figure.figsize'] = (10.0, 8.0) # set default size of plots\n",
    "plt.rcParams['image.interpolation'] = 'nearest'\n",
    "plt.rcParams['image.cmap'] = 'gray'\n",
    "\n",
    "# for auto-reloading extenrnal modules\n",
    "# see http://stackoverflow.com/questions/1907993/autoreload-of-modules-in-ipython\n",
    "%load_ext autoreload\n",
    "%autoreload 2"
   ]
  },
  {
   "cell_type": "code",
   "execution_count": 2,
   "metadata": {},
   "outputs": [
    {
     "name": "stdout",
     "output_type": "stream",
     "text": [
      "Train data shape:  (49000, 3073)\n",
      "Train labels shape:  (49000,)\n",
      "Validation data shape:  (1000, 3073)\n",
      "Validation labels shape:  (1000,)\n",
      "Test data shape:  (1000, 3073)\n",
      "Test labels shape:  (1000,)\n",
      "dev data shape:  (500, 3073)\n",
      "dev labels shape:  (500,)\n"
     ]
    }
   ],
   "source": [
    "def get_CIFAR10_data(num_training=49000, num_validation=1000, num_test=1000, num_dev=500):\n",
    "  \"\"\"\n",
    "  Load the CIFAR-10 dataset from disk and perform preprocessing to prepare\n",
    "  it for the linear classifier. These are the same steps as we used for the\n",
    "  SVM, but condensed to a single function.  \n",
    "  \"\"\"\n",
    "  # Load the raw CIFAR-10 data\n",
    "  cifar10_dir = 'cs231n/datasets/cifar-10-batches-py'\n",
    "  X_train, y_train, X_test, y_test = load_CIFAR10(cifar10_dir)\n",
    "  \n",
    "  # subsample the data\n",
    "  mask = range(num_training, num_training + num_validation)\n",
    "  X_val = X_train[mask]\n",
    "  y_val = y_train[mask]\n",
    "  mask = range(num_training)\n",
    "  X_train = X_train[mask]\n",
    "  y_train = y_train[mask]\n",
    "  mask = range(num_test)\n",
    "  X_test = X_test[mask]\n",
    "  y_test = y_test[mask]\n",
    "  mask = np.random.choice(num_training, num_dev, replace=False)\n",
    "  X_dev = X_train[mask]\n",
    "  y_dev = y_train[mask]\n",
    "  \n",
    "  # Preprocessing: reshape the image data into rows\n",
    "  X_train = np.reshape(X_train, (X_train.shape[0], -1))\n",
    "  X_val = np.reshape(X_val, (X_val.shape[0], -1))\n",
    "  X_test = np.reshape(X_test, (X_test.shape[0], -1))\n",
    "  X_dev = np.reshape(X_dev, (X_dev.shape[0], -1))\n",
    "  \n",
    "  # Normalize the data: subtract the mean image\n",
    "  mean_image = np.mean(X_train, axis = 0)\n",
    "  X_train -= mean_image\n",
    "  X_val -= mean_image\n",
    "  X_test -= mean_image\n",
    "  X_dev -= mean_image\n",
    "  \n",
    "  # add bias dimension and transform into columns\n",
    "  X_train = np.hstack([X_train, np.ones((X_train.shape[0], 1))])\n",
    "  X_val = np.hstack([X_val, np.ones((X_val.shape[0], 1))])\n",
    "  X_test = np.hstack([X_test, np.ones((X_test.shape[0], 1))])\n",
    "  X_dev = np.hstack([X_dev, np.ones((X_dev.shape[0], 1))])\n",
    "  \n",
    "  return X_train, y_train, X_val, y_val, X_test, y_test, X_dev, y_dev\n",
    "\n",
    "\n",
    "# Invoke the above function to get our data.\n",
    "X_train, y_train, X_val, y_val, X_test, y_test, X_dev, y_dev = get_CIFAR10_data()\n",
    "print('Train data shape: ', X_train.shape)\n",
    "print('Train labels shape: ', y_train.shape)\n",
    "print('Validation data shape: ', X_val.shape)\n",
    "print('Validation labels shape: ', y_val.shape)\n",
    "print('Test data shape: ', X_test.shape)\n",
    "print('Test labels shape: ', y_test.shape)\n",
    "print('dev data shape: ', X_dev.shape)\n",
    "print('dev labels shape: ', y_dev.shape)"
   ]
  },
  {
   "cell_type": "markdown",
   "metadata": {},
   "source": [
    "## Softmax Classifier\n",
    "\n",
    "Your code for this section will all be written inside **cs231n/classifiers/softmax.py**. \n"
   ]
  },
  {
   "cell_type": "code",
   "execution_count": 3,
   "metadata": {},
   "outputs": [
    {
     "name": "stdout",
     "output_type": "stream",
     "text": [
      "loss: 2.363314\n",
      "sanity check: 2.302585\n"
     ]
    }
   ],
   "source": [
    "# First implement the naive softmax loss function with nested loops.\n",
    "# Open the file cs231n/classifiers/softmax.py and implement the\n",
    "# softmax_loss_naive function.\n",
    "\n",
    "from cs231n.classifiers.softmax import softmax_loss_naive, softmax_loss_vectorized\n",
    "import time\n",
    "\n",
    "# Generate a random softmax weight matrix and use it to compute the loss.\n",
    "W = np.random.randn(3073, 10) * 0.0001\n",
    "loss, grad = softmax_loss_naive(W, X_dev, y_dev, 0.0)\n",
    "\n",
    "# As a rough sanity check, our loss should be something close to -log(0.1).\n",
    "print('loss: %f' % loss)\n",
    "print('sanity check: %f' % (-np.log(0.1)))"
   ]
  },
  {
   "cell_type": "markdown",
   "metadata": {},
   "source": [
    "## Inline Question 1:\n",
    "Why do we expect our loss to be close to -log(0.1)? Explain briefly.**\n",
    "\n",
    "**Your answer:** \n"
   ]
  },
  {
   "cell_type": "code",
   "execution_count": 4,
   "metadata": {},
   "outputs": [
    {
     "name": "stdout",
     "output_type": "stream",
     "text": [
      "numerical: 0.013779 analytic: 0.013778, relative error: 4.056567e-06\n",
      "numerical: -1.825410 analytic: -1.825410, relative error: 3.533701e-08\n",
      "numerical: 0.351625 analytic: 0.351625, relative error: 1.089720e-07\n",
      "numerical: 1.677703 analytic: 1.677703, relative error: 4.074047e-08\n",
      "numerical: 1.508234 analytic: 1.508233, relative error: 5.309188e-08\n",
      "numerical: 1.815699 analytic: 1.815699, relative error: 4.367319e-08\n",
      "numerical: -0.762219 analytic: -0.762219, relative error: 5.316085e-08\n",
      "numerical: -3.637677 analytic: -3.637677, relative error: 3.092032e-09\n",
      "numerical: 1.251239 analytic: 1.251239, relative error: 3.018649e-08\n",
      "numerical: 0.566396 analytic: 0.566396, relative error: 1.411886e-08\n",
      "numerical: 1.217770 analytic: 1.217769, relative error: 2.854872e-08\n",
      "numerical: 0.208168 analytic: 0.208168, relative error: 8.421744e-08\n",
      "numerical: 3.400449 analytic: 3.400448, relative error: 2.861509e-08\n",
      "numerical: 0.335937 analytic: 0.335937, relative error: 5.705395e-08\n",
      "numerical: 0.635460 analytic: 0.635460, relative error: 7.049279e-08\n",
      "numerical: 1.522031 analytic: 1.522031, relative error: 2.909267e-08\n",
      "numerical: 0.041794 analytic: 0.041794, relative error: 1.548052e-06\n",
      "numerical: -2.153078 analytic: -2.153078, relative error: 4.093704e-09\n",
      "numerical: -0.026439 analytic: -0.026439, relative error: 1.317470e-06\n",
      "numerical: 1.702673 analytic: 1.702673, relative error: 3.860745e-08\n"
     ]
    }
   ],
   "source": [
    "# Complete the implementation of softmax_loss_naive and implement a (naive)\n",
    "# version of the gradient that uses nested loops.\n",
    "loss, grad = softmax_loss_naive(W, X_dev, y_dev, 0.0)\n",
    "\n",
    "# As we did for the SVM, use numeric gradient checking as a debugging tool.\n",
    "# The numeric gradient should be close to the analytic gradient.\n",
    "from cs231n.gradient_check import grad_check_sparse\n",
    "f = lambda w: softmax_loss_naive(w, X_dev, y_dev, 0.0)[0]\n",
    "grad_numerical = grad_check_sparse(f, W, grad, 10)\n",
    "\n",
    "# similar to SVM case, do another gradient check with regularization\n",
    "loss, grad = softmax_loss_naive(W, X_dev, y_dev, 1e2)\n",
    "f = lambda w: softmax_loss_naive(w, X_dev, y_dev, 1e2)[0]\n",
    "grad_numerical = grad_check_sparse(f, W, grad, 10)"
   ]
  },
  {
   "cell_type": "code",
   "execution_count": 5,
   "metadata": {},
   "outputs": [
    {
     "name": "stdout",
     "output_type": "stream",
     "text": [
      "naive loss: 2.363314e+00 computed in 0.021907s\n",
      "vectorized loss: 2.363314e+00 computed in 0.010828s\n",
      "Loss difference: 0.000000\n",
      "Gradient difference: 0.000000\n"
     ]
    }
   ],
   "source": [
    "# Now that we have a naive implementation of the softmax loss function and its gradient,\n",
    "# implement a vectorized version in softmax_loss_vectorized.\n",
    "# The two versions should compute the same results, but the vectorized version should be\n",
    "# much faster.\n",
    "tic = time.time()\n",
    "loss_naive, grad_naive = softmax_loss_naive(W, X_dev, y_dev, 0.00001)\n",
    "toc = time.time()\n",
    "print('naive loss: %e computed in %fs' % (loss_naive, toc - tic))\n",
    "\n",
    "from cs231n.classifiers.softmax import softmax_loss_vectorized\n",
    "tic = time.time()\n",
    "loss_vectorized, grad_vectorized = softmax_loss_vectorized(W, X_dev, y_dev, 0.00001)\n",
    "toc = time.time()\n",
    "print('vectorized loss: %e computed in %fs' % (loss_vectorized, toc - tic))\n",
    "\n",
    "# As we did for the SVM, we use the Frobenius norm to compare the two versions\n",
    "# of the gradient.\n",
    "grad_difference = np.linalg.norm(grad_naive - grad_vectorized, ord='fro')\n",
    "print('Loss difference: %f' % np.abs(loss_naive - loss_vectorized))\n",
    "print('Gradient difference: %f' % grad_difference)"
   ]
  },
  {
   "cell_type": "code",
   "execution_count": 6,
   "metadata": {},
   "outputs": [
    {
     "name": "stdout",
     "output_type": "stream",
     "text": [
      "iteration 0 / 200: loss 6.046762\n",
      "iteration 100 / 200: loss 5.280280\n",
      "iteration 0 / 200: loss 314.942042\n",
      "iteration 100 / 200: loss 302.701548\n",
      "iteration 0 / 200: loss 464.715721\n",
      "iteration 100 / 200: loss 437.202842\n",
      "iteration 0 / 200: loss 625.257963\n",
      "iteration 100 / 200: loss 576.472563\n",
      "iteration 0 / 200: loss 778.606932\n",
      "iteration 100 / 200: loss 704.207112\n",
      "iteration 0 / 200: loss 942.546488\n",
      "iteration 100 / 200: loss 836.363544\n",
      "iteration 0 / 200: loss 5.422996\n",
      "iteration 100 / 200: loss 4.403569\n",
      "iteration 0 / 200: loss 313.944352\n",
      "iteration 100 / 200: loss 209.974141\n",
      "iteration 0 / 200: loss 470.313251\n",
      "iteration 100 / 200: loss 256.942601\n",
      "iteration 0 / 200: loss 630.313777\n",
      "iteration 100 / 200: loss 281.940174\n",
      "iteration 0 / 200: loss 772.540964\n",
      "iteration 100 / 200: loss 283.771641\n",
      "iteration 0 / 200: loss 934.409212\n",
      "iteration 100 / 200: loss 281.038946\n",
      "iteration 0 / 200: loss 5.855238\n",
      "iteration 100 / 200: loss 2.744784\n",
      "iteration 0 / 200: loss 311.940588\n",
      "iteration 100 / 200: loss 7.237786\n",
      "iteration 0 / 200: loss 460.519451\n",
      "iteration 100 / 200: loss 3.142536\n",
      "iteration 0 / 200: loss 620.342267\n",
      "iteration 100 / 200: loss 2.279175\n",
      "iteration 0 / 200: loss 772.250821\n",
      "iteration 100 / 200: loss 2.143736\n",
      "iteration 0 / 200: loss 924.431263\n",
      "iteration 100 / 200: loss 2.105174\n",
      "iteration 0 / 200: loss 6.216487\n",
      "iteration 100 / 200: loss 7.044922\n",
      "iteration 0 / 200: loss 313.282189\n",
      "iteration 100 / 200: loss 16.362213\n",
      "iteration 0 / 200: loss 460.479360\n",
      "iteration 100 / 200: loss 15.481243\n",
      "iteration 0 / 200: loss 620.444051\n",
      "iteration 100 / 200: loss 23.777746\n",
      "iteration 0 / 200: loss 767.657617\n",
      "iteration 100 / 200: loss 31.197137\n",
      "iteration 0 / 200: loss 926.963691\n",
      "iteration 100 / 200: loss 49.801200\n",
      "lr 1.000000e-08 reg 1.000000e+01 train accuracy: 0.090898 val accuracy: 0.093000\n",
      "lr 1.000000e-08 reg 2.000000e+04 train accuracy: 0.087571 val accuracy: 0.087000\n",
      "lr 1.000000e-08 reg 3.000000e+04 train accuracy: 0.126633 val accuracy: 0.122000\n",
      "lr 1.000000e-08 reg 4.000000e+04 train accuracy: 0.112673 val accuracy: 0.108000\n",
      "lr 1.000000e-08 reg 5.000000e+04 train accuracy: 0.110959 val accuracy: 0.111000\n",
      "lr 1.000000e-08 reg 6.000000e+04 train accuracy: 0.099776 val accuracy: 0.102000\n",
      "lr 1.000000e-07 reg 1.000000e+01 train accuracy: 0.149878 val accuracy: 0.150000\n",
      "lr 1.000000e-07 reg 2.000000e+04 train accuracy: 0.173469 val accuracy: 0.181000\n",
      "lr 1.000000e-07 reg 3.000000e+04 train accuracy: 0.177653 val accuracy: 0.178000\n",
      "lr 1.000000e-07 reg 4.000000e+04 train accuracy: 0.190245 val accuracy: 0.168000\n",
      "lr 1.000000e-07 reg 5.000000e+04 train accuracy: 0.203735 val accuracy: 0.201000\n",
      "lr 1.000000e-07 reg 6.000000e+04 train accuracy: 0.209041 val accuracy: 0.212000\n",
      "lr 1.000000e-06 reg 1.000000e+01 train accuracy: 0.263633 val accuracy: 0.261000\n",
      "lr 1.000000e-06 reg 2.000000e+04 train accuracy: 0.340184 val accuracy: 0.342000\n",
      "lr 1.000000e-06 reg 3.000000e+04 train accuracy: 0.337000 val accuracy: 0.346000\n",
      "lr 1.000000e-06 reg 4.000000e+04 train accuracy: 0.327776 val accuracy: 0.325000\n",
      "lr 1.000000e-06 reg 5.000000e+04 train accuracy: 0.327633 val accuracy: 0.345000\n",
      "lr 1.000000e-06 reg 6.000000e+04 train accuracy: 0.323694 val accuracy: 0.333000\n",
      "lr 2.000000e-05 reg 1.000000e+01 train accuracy: 0.282204 val accuracy: 0.282000\n",
      "lr 2.000000e-05 reg 2.000000e+04 train accuracy: 0.142204 val accuracy: 0.139000\n",
      "lr 2.000000e-05 reg 3.000000e+04 train accuracy: 0.153592 val accuracy: 0.156000\n",
      "lr 2.000000e-05 reg 4.000000e+04 train accuracy: 0.068347 val accuracy: 0.065000\n",
      "lr 2.000000e-05 reg 5.000000e+04 train accuracy: 0.071224 val accuracy: 0.067000\n",
      "lr 2.000000e-05 reg 6.000000e+04 train accuracy: 0.062878 val accuracy: 0.068000\n",
      "best validation accuracy achieved during cross-validation: 0.346000\n"
     ]
    }
   ],
   "source": [
    "# Use the validation set to tune hyperparameters (regularization strength and\n",
    "# learning rate). You should experiment with different ranges for the learning\n",
    "# rates and regularization strengths; if you are careful you should be able to\n",
    "# get a classification accuracy of over 0.35 on the validation set.\n",
    "from cs231n.classifiers import Softmax\n",
    "results = {}\n",
    "best_val = -1\n",
    "best_softmax = None\n",
    "learning_rates = [1e-8, 1e-7, 1e-6, 2e-5]\n",
    "regularization_strengths = [1e1, 2e4, 3e4, 4e4, 5e4, 6e4]\n",
    "\n",
    "################################################################################\n",
    "# TODO:                                                                        #\n",
    "# Use the validation set to set the learning rate and regularization strength. #\n",
    "# This should be identical to the validation that you did for the SVM; save    #\n",
    "# the best trained softmax classifer in best_softmax.                          #\n",
    "################################################################################\n",
    "for l in learning_rates:\n",
    "    for r in regularization_strengths:\n",
    "        softmax = Softmax()\n",
    "        loss_hist = softmax.train(X_train, y_train, learning_rate=l, reg=r,\n",
    "                      num_iters=200, verbose=True)\n",
    "        y_train_pred = softmax.predict(X_train)\n",
    "        y_val_pred = softmax.predict(X_val)\n",
    "        y_train_acc = np.mean(y_train == y_train_pred)\n",
    "        y_val_acc = np.mean(y_val == y_val_pred)\n",
    "        if y_val_acc > best_val:\n",
    "            best_val = y_val_acc\n",
    "            best_softmax = softmax\n",
    "        results[(l, r)] = (y_train_acc, y_val_acc)\n",
    "################################################################################\n",
    "#                              END OF YOUR CODE                                #\n",
    "################################################################################\n",
    "    \n",
    "# Print out results.\n",
    "for lr, reg in sorted(results):\n",
    "    train_accuracy, val_accuracy = results[(lr, reg)]\n",
    "    print('lr %e reg %e train accuracy: %f val accuracy: %f' % (\n",
    "                lr, reg, train_accuracy, val_accuracy))\n",
    "    \n",
    "print('best validation accuracy achieved during cross-validation: %f' % best_val)"
   ]
  },
  {
   "cell_type": "code",
   "execution_count": 9,
   "metadata": {},
   "outputs": [
    {
     "name": "stdout",
     "output_type": "stream",
     "text": [
      "softmax on raw pixels final test set accuracy: 0.343000\n"
     ]
    }
   ],
   "source": [
    "# evaluate on test set\n",
    "# Evaluate the best softmax on test set\n",
    "y_test_pred = best_softmax.predict(X_test)\n",
    "test_accuracy = np.mean(y_test == y_test_pred)\n",
    "print('softmax on raw pixels final test set accuracy: %f' % (test_accuracy, ))"
   ]
  },
  {
   "cell_type": "code",
   "execution_count": 10,
   "metadata": {},
   "outputs": [
    {
     "data": {
      "image/png": "[encoded data removed]",
      "text/plain": [
       "<matplotlib.figure.Figure at 0x116135630>"
      ]
     },
     "metadata": {},
     "output_type": "display_data"
    }
   ],
   "source": [
    "# Visualize the learned weights for each class\n",
    "w = best_softmax.W[:-1,:] # strip out the bias\n",
    "w = w.reshape(32, 32, 3, 10)\n",
    "\n",
    "w_min, w_max = np.min(w), np.max(w)\n",
    "\n",
    "classes = ['plane', 'car', 'bird', 'cat', 'deer', 'dog', 'frog', 'horse', 'ship', 'truck']\n",
    "for i in range(10):\n",
    "  plt.subplot(2, 5, i + 1)\n",
    "  \n",
    "  # Rescale the weights to be between 0 and 255\n",
    "  wimg = 255.0 * (w[:, :, :, i].squeeze() - w_min) / (w_max - w_min)\n",
    "  plt.imshow(wimg.astype('uint8'))\n",
    "  plt.axis('off')\n",
    "  plt.title(classes[i])"
   ]
  }
 ],
 "metadata": {
  "kernelspec": {
   "display_name": "Python 3",
   "language": "python",
   "name": "python3"
  },
  "language_info": {
   "codemirror_mode": {
    "name": "ipython",
    "version": 3
   },
   "file_extension": ".py",
   "mimetype": "text/x-python",
   "name": "python",
   "nbconvert_exporter": "python",
   "pygments_lexer": "ipython3",
   "version": "3.6.3"
  }
 },
 "nbformat": 4,
 "nbformat_minor": 1
}
